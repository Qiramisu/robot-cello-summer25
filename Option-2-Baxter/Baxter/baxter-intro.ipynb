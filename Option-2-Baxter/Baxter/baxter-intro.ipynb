{
 "cells": [
  {
   "cell_type": "markdown",
   "metadata": {},
   "source": [
    "# Introduction to the Baxter Robot by Rethink Robotics\n",
    "\n",
    "This notebook provides an introduction to the Baxter Robot and how it can be used in our project involving synchronized performance with our robot cellist.\n",
    "\n",
    "## Overview\n",
    "\n",
    "Baxter is a two-armed, humanoid industrial robot developed by Rethink Robotics. It is designed for safe, interactive, and flexible manipulation tasks. It features:\n",
    "- Two 7-DOF arms\n",
    "- LCD screen face with facial expressions\n",
    "- Force sensors for compliant motions\n",
    "- Cameras for vision-based interaction\n",
    "- ROS support for research-grade programming\n",
    "\n",
    "In our lab, Baxter will play percussion instruments (like drums) alongside our UR5e cello-playing robot. This enables a novel Human-Robot Interaction (HRI) study in musical collaboration between two robotic musicians and humans."
   ]
  },
  {
   "cell_type": "code",
   "execution_count": 2,
   "metadata": {},
   "outputs": [
    {
     "data": {
      "text/html": [
       "<iframe width=\"560\" height=\"315\" src=\"https://www.youtube.com/watch?v=gXOkWuSCkRI\" frameborder=\"0\" allowfullscreen></iframe>"
      ],
      "text/plain": [
       "<IPython.core.display.HTML object>"
      ]
     },
     "execution_count": 2,
     "metadata": {},
     "output_type": "execute_result"
    }
   ],
   "source": [
    "from IPython.display import HTML\n",
    "\n",
    "# Youtube\n",
    "HTML('<iframe width=\"560\" height=\"315\" src=\"https://www.youtube.com/watch?v=gXOkWuSCkRI\" frameborder=\"0\" allowfullscreen></iframe>')\n"
   ]
  },
  {
   "cell_type": "markdown",
   "metadata": {},
   "source": [
    "## Programmability\n",
    "Baxter can be programmed using Python with the ROS (Robot Operating System) framework. Key components include:\n",
    "\n",
    "- **SDK Interface**: Directly control joints, grippers, and read sensors.\n",
    "- **MoveIt!**: Motion planning and manipulation.\n",
    "- **Speech and Display**: Baxter can speak and show facial expressions.\n",
    "- **Vision**: Use its cameras for object detection and tracking.\n",
    "\n",
    "The 'ros-intro.ipynb' notebook will detail how you can program the Baxter robot using ROS in detail. "
   ]
  }
 ],
 "metadata": {
  "kernelspec": {
   "display_name": "3.10.12",
   "language": "python",
   "name": "python3"
  },
  "language_info": {
   "codemirror_mode": {
    "name": "ipython",
    "version": 3
   },
   "file_extension": ".py",
   "mimetype": "text/x-python",
   "name": "python",
   "nbconvert_exporter": "python",
   "pygments_lexer": "ipython3",
   "version": "3.10.12"
  }
 },
 "nbformat": 4,
 "nbformat_minor": 2
}
